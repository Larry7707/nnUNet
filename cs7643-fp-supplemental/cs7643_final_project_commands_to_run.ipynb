{
  "nbformat": 4,
  "nbformat_minor": 0,
  "metadata": {
    "colab": {
      "provenance": [],
      "gpuType": "L4",
      "machine_shape": "hm"
    },
    "kernelspec": {
      "name": "python3",
      "display_name": "Python 3"
    },
    "language_info": {
      "name": "python"
    },
    "accelerator": "GPU"
  },
  "cells": [
    {
      "cell_type": "code",
      "execution_count": null,
      "metadata": {
        "colab": {
          "base_uri": "https://localhost:8080/"
        },
        "id": "YWSvZxv5NbBi",
        "outputId": "533dfbdf-ac91-4f09-f1ec-4f9fddcc7f02"
      },
      "outputs": [
        {
          "output_type": "stream",
          "name": "stdout",
          "text": [
            "Mounted at /content/drive\n"
          ]
        }
      ],
      "source": [
        "from google.colab import drive\n",
        "drive.mount('/content/drive')"
      ]
    },
    {
      "cell_type": "code",
      "source": [
        "%cd \"/content/drive/MyDrive/cs7643-finalproject/WorkSpace/nnUNet\"\n",
        "! ls"
      ],
      "metadata": {
        "colab": {
          "base_uri": "https://localhost:8080/"
        },
        "id": "PoaoLSemxRi0",
        "outputId": "3904c141-d6c8-4a05-b831-fe2e5047e49d"
      },
      "execution_count": null,
      "outputs": [
        {
          "output_type": "stream",
          "name": "stdout",
          "text": [
            "/content/drive/MyDrive/cs7643-finalproject/WorkSpace/nnUNet\n",
            "documentation  nnunetv2\t\t  pyproject.toml  setup.py\n",
            "LICENSE        nnunetv2.egg-info  readme.md\t  test.ipynb\n"
          ]
        }
      ]
    },
    {
      "cell_type": "code",
      "source": [
        "! pip install -e ."
      ],
      "metadata": {
        "id": "E6Huq8Imx5Mt"
      },
      "execution_count": null,
      "outputs": []
    },
    {
      "cell_type": "code",
      "source": [
        "! pip install --upgrade git+https://github.com/FabianIsensee/hiddenlayer.git"
      ],
      "metadata": {
        "id": "s-RUg9TvyPzK"
      },
      "execution_count": null,
      "outputs": []
    },
    {
      "cell_type": "code",
      "source": [
        "%env nnUNet_raw=/content/drive/MyDrive/cs7643-finalproject/WorkSpace/nnUNet_raw\n",
        "%env nnUNet_preprocessed=/content/drive/MyDrive/cs7643-finalproject/WorkSpace/nnUNet_preprocessed\n",
        "%env nnUNet_results=/content/drive/MyDrive/cs7643-finalproject/WorkSpace/nnUNet_results"
      ],
      "metadata": {
        "colab": {
          "base_uri": "https://localhost:8080/"
        },
        "id": "gUx4yacqyYq_",
        "outputId": "6375296d-428d-4ddb-c6a7-eab431031ec1"
      },
      "execution_count": null,
      "outputs": [
        {
          "output_type": "stream",
          "name": "stdout",
          "text": [
            "env: nnUNet_raw=/content/drive/MyDrive/cs7643-finalproject/WorkSpace/nnUNet_raw\n",
            "env: nnUNet_preprocessed=/content/drive/MyDrive/cs7643-finalproject/WorkSpace/nnUNet_preprocessed\n",
            "env: nnUNet_results=/content/drive/MyDrive/cs7643-finalproject/WorkSpace/nnUNet_results\n"
          ]
        }
      ]
    },
    {
      "cell_type": "code",
      "source": [
        "! echo ${nnUNet_raw}"
      ],
      "metadata": {
        "colab": {
          "base_uri": "https://localhost:8080/"
        },
        "id": "MVF0bliyzz4-",
        "outputId": "64191702-efbe-481a-bf37-a1ca425d0f94"
      },
      "execution_count": null,
      "outputs": [
        {
          "output_type": "stream",
          "name": "stdout",
          "text": [
            "/content/drive/MyDrive/cs7643-finalproject/WorkSpace/nnUNet_raw\n"
          ]
        }
      ]
    },
    {
      "cell_type": "code",
      "source": [
        "import torch\n",
        "\n",
        "# Check if CUDA is available\n",
        "print(torch.cuda.is_available())\n",
        "# Print the name of the CUDA device\n",
        "print(torch.cuda.get_device_name(0))\n",
        "# Print torch version\n",
        "print(torch.__version__)"
      ],
      "metadata": {
        "id": "KPw2N6IxOWYJ",
        "colab": {
          "base_uri": "https://localhost:8080/"
        },
        "outputId": "975084c2-1bd7-4908-d279-79beff763128"
      },
      "execution_count": null,
      "outputs": [
        {
          "output_type": "stream",
          "name": "stdout",
          "text": [
            "True\n",
            "NVIDIA L4\n",
            "2.2.1+cu121\n"
          ]
        }
      ]
    },
    {
      "cell_type": "markdown",
      "source": [],
      "metadata": {
        "id": "MQ3O54JptqAm"
      }
    },
    {
      "cell_type": "code",
      "source": [
        "!nnUNetv2_plan_and_preprocess -d 123 --verify_dataset_integrity"
      ],
      "metadata": {
        "id": "nhzjrY0LWz6Z"
      },
      "execution_count": null,
      "outputs": []
    },
    {
      "cell_type": "code",
      "source": [
        "!nnUNetv2_train 123 3d_fullres 0"
      ],
      "metadata": {
        "id": "abc7AV5dyi1M"
      },
      "execution_count": null,
      "outputs": []
    },
    {
      "cell_type": "code",
      "source": [
        "!nnUNetv2_plan_and_preprocess -d 004 --verify_dataset_integrity"
      ],
      "metadata": {
        "id": "Si_kSh56eEGq"
      },
      "execution_count": null,
      "outputs": []
    },
    {
      "cell_type": "code",
      "source": [
        "!nnUNetv2_train 004 3d_fullres 0"
      ],
      "metadata": {
        "id": "-mD0pmUeptIZ"
      },
      "execution_count": null,
      "outputs": []
    },
    {
      "cell_type": "code",
      "source": [
        "# pretrain\n",
        "!nnUNetv2_train 123 3d_fullres 0 -pretrained_weights /content/drive/MyDrive/cs7643-finalproject/WorkSpace/liver_checkpoint_best_for_pretrain.pth"
      ],
      "metadata": {
        "id": "zpJgarPWPNJJ"
      },
      "execution_count": null,
      "outputs": []
    },
    {
      "cell_type": "code",
      "source": [
        "!nnUNetv2_predict -i  -o OUTPUT_FOLDER -d DATASET_NAME_OR_ID -c CONFIGURATION"
      ],
      "metadata": {
        "id": "xG9NljVobJ3e",
        "colab": {
          "base_uri": "https://localhost:8080/"
        },
        "outputId": "5097cb94-c6d1-4124-9967-120c5c96538b"
      },
      "execution_count": null,
      "outputs": [
        {
          "output_type": "stream",
          "name": "stdout",
          "text": [
            "/bin/bash: line 1: nnUNetv2_predict: command not found\n"
          ]
        }
      ]
    },
    {
      "cell_type": "code",
      "source": [
        "!nnUNetv2_predict -d 001 -i /content/drive/MyDrive/cs7643-finalproject/Final-validation/Image -o /content/drive/MyDrive/cs7643-finalproject/Final-validation/Label_pred/ModelA -f 0 -c 3d_fullres -chk checkpoint_best.pth"
      ],
      "metadata": {
        "colab": {
          "base_uri": "https://localhost:8080/"
        },
        "id": "Ok0wYK2gdCdN",
        "outputId": "9ff0931d-e832-49f2-badf-f945f6840eec"
      },
      "execution_count": null,
      "outputs": [
        {
          "output_type": "stream",
          "name": "stdout",
          "text": [
            "\n",
            "#######################################################################\n",
            "Please cite the following paper when using nnU-Net:\n",
            "Isensee, F., Jaeger, P. F., Kohl, S. A., Petersen, J., & Maier-Hein, K. H. (2021). nnU-Net: a self-configuring method for deep learning-based biomedical image segmentation. Nature methods, 18(2), 203-211.\n",
            "#######################################################################\n",
            "\n",
            "/content/drive/MyDrive/cs7643-finalproject/Final-validation/Image\n",
            "a /content/drive/MyDrive/cs7643-finalproject/Final-validation/Image\n",
            "['000010_02_02_100_lesion_01.nii.gz', '000026_06_01_257_lesion_01.nii.gz', '000028_02_01_059_lesion_01.nii.gz', '000037_11_01_109_lesion_01.nii.gz', '000038_01_01_050_lesion_01.nii.gz', '000103_02_01_060_lesion_01.nii.gz', '000103_02_01_168_lesion_01.nii.gz', '000122_04_02_150_lesion_01.nii.gz', '000281_03_01_291_lesion_01.nii.gz']\n",
            "000010_02_02_100_lesion_01\n",
            "000026_06_01_257_lesion_01\n",
            "000028_02_01_059_lesion_01\n",
            "000037_11_01_109_lesion_01\n",
            "000038_01_01_050_lesion_01\n",
            "000103_02_01_060_lesion_01\n",
            "000103_02_01_168_lesion_01\n",
            "000122_04_02_150_lesion_01\n",
            "000281_03_01_291_lesion_01\n",
            "There are 9 cases in the source folder\n",
            "[['/content/drive/MyDrive/cs7643-finalproject/Final-validation/Image/000010_02_02_100_lesion_01.nii.gz'], ['/content/drive/MyDrive/cs7643-finalproject/Final-validation/Image/000026_06_01_257_lesion_01.nii.gz'], ['/content/drive/MyDrive/cs7643-finalproject/Final-validation/Image/000028_02_01_059_lesion_01.nii.gz'], ['/content/drive/MyDrive/cs7643-finalproject/Final-validation/Image/000037_11_01_109_lesion_01.nii.gz'], ['/content/drive/MyDrive/cs7643-finalproject/Final-validation/Image/000038_01_01_050_lesion_01.nii.gz'], ['/content/drive/MyDrive/cs7643-finalproject/Final-validation/Image/000103_02_01_060_lesion_01.nii.gz'], ['/content/drive/MyDrive/cs7643-finalproject/Final-validation/Image/000103_02_01_168_lesion_01.nii.gz'], ['/content/drive/MyDrive/cs7643-finalproject/Final-validation/Image/000122_04_02_150_lesion_01.nii.gz'], ['/content/drive/MyDrive/cs7643-finalproject/Final-validation/Image/000281_03_01_291_lesion_01.nii.gz']]\n",
            "I am process 0 out of 1 (max process ID is 0, we start counting with 0!)\n",
            "There are 9 cases that I would like to predict\n",
            "/usr/lib/python3.10/multiprocessing/popen_fork.py:66: RuntimeWarning: os.fork() was called. os.fork() is incompatible with multithreaded code, and JAX is multithreaded, so this will likely lead to a deadlock.\n",
            "  self.pid = os.fork()\n",
            "\n",
            "Predicting 000010_02_02_100_lesion_01:\n",
            "perform_everything_on_device: True\n",
            "100% 9/9 [00:06<00:00,  1.48it/s]\n",
            "sending off prediction to background worker for resampling and export\n",
            "done with 000010_02_02_100_lesion_01\n",
            "\n",
            "Predicting 000026_06_01_257_lesion_01:\n",
            "perform_everything_on_device: True\n",
            "100% 9/9 [00:04<00:00,  1.92it/s]\n",
            "sending off prediction to background worker for resampling and export\n",
            "done with 000026_06_01_257_lesion_01\n",
            "\n",
            "Predicting 000028_02_01_059_lesion_01:\n",
            "perform_everything_on_device: True\n",
            "100% 63/63 [00:34<00:00,  1.82it/s]\n",
            "sending off prediction to background worker for resampling and export\n",
            "done with 000028_02_01_059_lesion_01\n",
            "\n",
            "Predicting 000037_11_01_109_lesion_01:\n",
            "perform_everything_on_device: True\n",
            "100% 63/63 [00:34<00:00,  1.80it/s]\n",
            "sending off prediction to background worker for resampling and export\n",
            "done with 000037_11_01_109_lesion_01\n",
            "\n",
            "Predicting 000038_01_01_050_lesion_01:\n",
            "perform_everything_on_device: True\n",
            "100% 36/36 [00:19<00:00,  1.81it/s]\n",
            "sending off prediction to background worker for resampling and export\n",
            "done with 000038_01_01_050_lesion_01\n",
            "\n",
            "Predicting 000103_02_01_060_lesion_01:\n",
            "perform_everything_on_device: True\n",
            "100% 9/9 [00:04<00:00,  1.87it/s]\n",
            "sending off prediction to background worker for resampling and export\n",
            "done with 000103_02_01_060_lesion_01\n",
            "\n",
            "Predicting 000103_02_01_168_lesion_01:\n",
            "perform_everything_on_device: True\n",
            "100% 9/9 [00:04<00:00,  1.87it/s]\n",
            "sending off prediction to background worker for resampling and export\n",
            "done with 000103_02_01_168_lesion_01\n",
            "\n",
            "Predicting 000122_04_02_150_lesion_01:\n",
            "perform_everything_on_device: True\n",
            "100% 9/9 [00:04<00:00,  1.88it/s]\n",
            "sending off prediction to background worker for resampling and export\n",
            "done with 000122_04_02_150_lesion_01\n",
            "\n",
            "Predicting 000281_03_01_291_lesion_01:\n",
            "perform_everything_on_device: True\n",
            "100% 4/4 [00:01<00:00,  2.02it/s]\n",
            "sending off prediction to background worker for resampling and export\n",
            "done with 000281_03_01_291_lesion_01\n"
          ]
        }
      ]
    },
    {
      "cell_type": "markdown",
      "source": [],
      "metadata": {
        "id": "Mgu9p2SvURQb"
      }
    },
    {
      "cell_type": "code",
      "source": [
        "!nnUNetv2_predict -d 004 -i /content/drive/MyDrive/cs7643-finalproject/Final-validation/Image -o /content/drive/MyDrive/cs7643-finalproject/Final-validation/Label_pred/ModelBAll -f 0 -c 3d_fullres -chk checkpoint_best.pth"
      ],
      "metadata": {
        "colab": {
          "base_uri": "https://localhost:8080/"
        },
        "id": "dDAc_XjmfMt_",
        "outputId": "a393c986-2839-4f91-d17a-897016c3e280"
      },
      "execution_count": null,
      "outputs": [
        {
          "output_type": "stream",
          "name": "stdout",
          "text": [
            "\n",
            "#######################################################################\n",
            "Please cite the following paper when using nnU-Net:\n",
            "Isensee, F., Jaeger, P. F., Kohl, S. A., Petersen, J., & Maier-Hein, K. H. (2021). nnU-Net: a self-configuring method for deep learning-based biomedical image segmentation. Nature methods, 18(2), 203-211.\n",
            "#######################################################################\n",
            "\n",
            "/content/drive/MyDrive/cs7643-finalproject/Final-validation/Image\n",
            "a /content/drive/MyDrive/cs7643-finalproject/Final-validation/Image\n",
            "['000010_02_02_100_lesion_01.nii.gz', '000026_06_01_257_lesion_01.nii.gz', '000028_02_01_059_lesion_01.nii.gz', '000037_11_01_109_lesion_01.nii.gz', '000038_01_01_050_lesion_01.nii.gz', '000103_02_01_060_lesion_01.nii.gz', '000103_02_01_168_lesion_01.nii.gz', '000122_04_02_150_lesion_01.nii.gz', '000281_03_01_291_lesion_01.nii.gz']\n",
            "000010_02_02_100_lesion_01\n",
            "000026_06_01_257_lesion_01\n",
            "000028_02_01_059_lesion_01\n",
            "000037_11_01_109_lesion_01\n",
            "000038_01_01_050_lesion_01\n",
            "000103_02_01_060_lesion_01\n",
            "000103_02_01_168_lesion_01\n",
            "000122_04_02_150_lesion_01\n",
            "000281_03_01_291_lesion_01\n",
            "There are 9 cases in the source folder\n",
            "[['/content/drive/MyDrive/cs7643-finalproject/Final-validation/Image/000010_02_02_100_lesion_01.nii.gz'], ['/content/drive/MyDrive/cs7643-finalproject/Final-validation/Image/000026_06_01_257_lesion_01.nii.gz'], ['/content/drive/MyDrive/cs7643-finalproject/Final-validation/Image/000028_02_01_059_lesion_01.nii.gz'], ['/content/drive/MyDrive/cs7643-finalproject/Final-validation/Image/000037_11_01_109_lesion_01.nii.gz'], ['/content/drive/MyDrive/cs7643-finalproject/Final-validation/Image/000038_01_01_050_lesion_01.nii.gz'], ['/content/drive/MyDrive/cs7643-finalproject/Final-validation/Image/000103_02_01_060_lesion_01.nii.gz'], ['/content/drive/MyDrive/cs7643-finalproject/Final-validation/Image/000103_02_01_168_lesion_01.nii.gz'], ['/content/drive/MyDrive/cs7643-finalproject/Final-validation/Image/000122_04_02_150_lesion_01.nii.gz'], ['/content/drive/MyDrive/cs7643-finalproject/Final-validation/Image/000281_03_01_291_lesion_01.nii.gz']]\n",
            "I am process 0 out of 1 (max process ID is 0, we start counting with 0!)\n",
            "There are 9 cases that I would like to predict\n",
            "/usr/lib/python3.10/multiprocessing/popen_fork.py:66: RuntimeWarning: os.fork() was called. os.fork() is incompatible with multithreaded code, and JAX is multithreaded, so this will likely lead to a deadlock.\n",
            "  self.pid = os.fork()\n",
            "\n",
            "Predicting 000010_02_02_100_lesion_01:\n",
            "perform_everything_on_device: True\n",
            "100% 18/18 [00:11<00:00,  1.59it/s]\n",
            "sending off prediction to background worker for resampling and export\n",
            "done with 000010_02_02_100_lesion_01\n",
            "\n",
            "Predicting 000026_06_01_257_lesion_01:\n",
            "perform_everything_on_device: True\n",
            "100% 18/18 [00:10<00:00,  1.80it/s]\n",
            "sending off prediction to background worker for resampling and export\n",
            "done with 000026_06_01_257_lesion_01\n",
            "\n",
            "Predicting 000028_02_01_059_lesion_01:\n",
            "perform_everything_on_device: True\n",
            "100% 117/117 [01:06<00:00,  1.75it/s]\n",
            "sending off prediction to background worker for resampling and export\n",
            "done with 000028_02_01_059_lesion_01\n",
            "\n",
            "Predicting 000037_11_01_109_lesion_01:\n",
            "perform_everything_on_device: True\n",
            "100% 117/117 [01:08<00:00,  1.72it/s]\n",
            "sending off prediction to background worker for resampling and export\n",
            "done with 000037_11_01_109_lesion_01\n",
            "\n",
            "Predicting 000038_01_01_050_lesion_01:\n",
            "perform_everything_on_device: True\n",
            "100% 63/63 [00:37<00:00,  1.70it/s]\n",
            "sending off prediction to background worker for resampling and export\n",
            "done with 000038_01_01_050_lesion_01\n",
            "\n",
            "Predicting 000103_02_01_060_lesion_01:\n",
            "perform_everything_on_device: True\n",
            "100% 18/18 [00:10<00:00,  1.72it/s]\n",
            "sending off prediction to background worker for resampling and export\n",
            "done with 000103_02_01_060_lesion_01\n",
            "\n",
            "Predicting 000103_02_01_168_lesion_01:\n",
            "perform_everything_on_device: True\n",
            "100% 18/18 [00:10<00:00,  1.73it/s]\n",
            "sending off prediction to background worker for resampling and export\n",
            "done with 000103_02_01_168_lesion_01\n",
            "\n",
            "Predicting 000122_04_02_150_lesion_01:\n",
            "perform_everything_on_device: True\n",
            "100% 18/18 [00:10<00:00,  1.73it/s]\n",
            "sending off prediction to background worker for resampling and export\n",
            "done with 000122_04_02_150_lesion_01\n",
            "\n",
            "Predicting 000281_03_01_291_lesion_01:\n",
            "perform_everything_on_device: True\n",
            "100% 8/8 [00:04<00:00,  1.79it/s]\n",
            "sending off prediction to background worker for resampling and export\n",
            "done with 000281_03_01_291_lesion_01\n"
          ]
        }
      ]
    },
    {
      "cell_type": "code",
      "source": [
        "!nnUNetv2_predict -d 005 -i /content/drive/MyDrive/cs7643-finalproject/Final-validation/Image -o /content/drive/MyDrive/cs7643-finalproject/Final-validation/Label_pred/ModelB100 -f 0 -c 3d_fullres -chk checkpoint_best.pth"
      ],
      "metadata": {
        "colab": {
          "base_uri": "https://localhost:8080/"
        },
        "id": "CdTX1sWtgVht",
        "outputId": "35ff39d7-69e3-4e06-aa9b-1d2088bc6060"
      },
      "execution_count": null,
      "outputs": [
        {
          "output_type": "stream",
          "name": "stdout",
          "text": [
            "\n",
            "#######################################################################\n",
            "Please cite the following paper when using nnU-Net:\n",
            "Isensee, F., Jaeger, P. F., Kohl, S. A., Petersen, J., & Maier-Hein, K. H. (2021). nnU-Net: a self-configuring method for deep learning-based biomedical image segmentation. Nature methods, 18(2), 203-211.\n",
            "#######################################################################\n",
            "\n",
            "/content/drive/MyDrive/cs7643-finalproject/Final-validation/Image\n",
            "a /content/drive/MyDrive/cs7643-finalproject/Final-validation/Image\n",
            "['000010_02_02_100_lesion_01.nii.gz', '000026_06_01_257_lesion_01.nii.gz', '000028_02_01_059_lesion_01.nii.gz', '000037_11_01_109_lesion_01.nii.gz', '000038_01_01_050_lesion_01.nii.gz', '000103_02_01_060_lesion_01.nii.gz', '000103_02_01_168_lesion_01.nii.gz', '000122_04_02_150_lesion_01.nii.gz', '000281_03_01_291_lesion_01.nii.gz']\n",
            "000010_02_02_100_lesion_01\n",
            "000026_06_01_257_lesion_01\n",
            "000028_02_01_059_lesion_01\n",
            "000037_11_01_109_lesion_01\n",
            "000038_01_01_050_lesion_01\n",
            "000103_02_01_060_lesion_01\n",
            "000103_02_01_168_lesion_01\n",
            "000122_04_02_150_lesion_01\n",
            "000281_03_01_291_lesion_01\n",
            "There are 9 cases in the source folder\n",
            "[['/content/drive/MyDrive/cs7643-finalproject/Final-validation/Image/000010_02_02_100_lesion_01.nii.gz'], ['/content/drive/MyDrive/cs7643-finalproject/Final-validation/Image/000026_06_01_257_lesion_01.nii.gz'], ['/content/drive/MyDrive/cs7643-finalproject/Final-validation/Image/000028_02_01_059_lesion_01.nii.gz'], ['/content/drive/MyDrive/cs7643-finalproject/Final-validation/Image/000037_11_01_109_lesion_01.nii.gz'], ['/content/drive/MyDrive/cs7643-finalproject/Final-validation/Image/000038_01_01_050_lesion_01.nii.gz'], ['/content/drive/MyDrive/cs7643-finalproject/Final-validation/Image/000103_02_01_060_lesion_01.nii.gz'], ['/content/drive/MyDrive/cs7643-finalproject/Final-validation/Image/000103_02_01_168_lesion_01.nii.gz'], ['/content/drive/MyDrive/cs7643-finalproject/Final-validation/Image/000122_04_02_150_lesion_01.nii.gz'], ['/content/drive/MyDrive/cs7643-finalproject/Final-validation/Image/000281_03_01_291_lesion_01.nii.gz']]\n",
            "I am process 0 out of 1 (max process ID is 0, we start counting with 0!)\n",
            "There are 9 cases that I would like to predict\n",
            "/usr/lib/python3.10/multiprocessing/popen_fork.py:66: RuntimeWarning: os.fork() was called. os.fork() is incompatible with multithreaded code, and JAX is multithreaded, so this will likely lead to a deadlock.\n",
            "  self.pid = os.fork()\n",
            "\n",
            "Predicting 000010_02_02_100_lesion_01:\n",
            "perform_everything_on_device: True\n",
            "100% 18/18 [00:11<00:00,  1.61it/s]\n",
            "sending off prediction to background worker for resampling and export\n",
            "done with 000010_02_02_100_lesion_01\n",
            "\n",
            "Predicting 000026_06_01_257_lesion_01:\n",
            "perform_everything_on_device: True\n",
            "100% 18/18 [00:09<00:00,  1.82it/s]\n",
            "sending off prediction to background worker for resampling and export\n",
            "done with 000026_06_01_257_lesion_01\n",
            "\n",
            "Predicting 000028_02_01_059_lesion_01:\n",
            "perform_everything_on_device: True\n",
            "100% 117/117 [01:06<00:00,  1.77it/s]\n",
            "sending off prediction to background worker for resampling and export\n",
            "done with 000028_02_01_059_lesion_01\n",
            "\n",
            "Predicting 000037_11_01_109_lesion_01:\n",
            "perform_everything_on_device: True\n",
            "100% 117/117 [01:08<00:00,  1.72it/s]\n",
            "sending off prediction to background worker for resampling and export\n",
            "done with 000037_11_01_109_lesion_01\n",
            "\n",
            "Predicting 000038_01_01_050_lesion_01:\n",
            "perform_everything_on_device: True\n",
            "100% 63/63 [00:37<00:00,  1.68it/s]\n",
            "sending off prediction to background worker for resampling and export\n",
            "done with 000038_01_01_050_lesion_01\n",
            "\n",
            "Predicting 000103_02_01_060_lesion_01:\n",
            "perform_everything_on_device: True\n",
            "100% 18/18 [00:10<00:00,  1.67it/s]\n",
            "sending off prediction to background worker for resampling and export\n",
            "done with 000103_02_01_060_lesion_01\n",
            "\n",
            "Predicting 000103_02_01_168_lesion_01:\n",
            "perform_everything_on_device: True\n",
            "100% 18/18 [00:10<00:00,  1.67it/s]\n",
            "sending off prediction to background worker for resampling and export\n",
            "done with 000103_02_01_168_lesion_01\n",
            "\n",
            "Predicting 000122_04_02_150_lesion_01:\n",
            "perform_everything_on_device: True\n",
            "100% 18/18 [00:10<00:00,  1.68it/s]\n",
            "sending off prediction to background worker for resampling and export\n",
            "done with 000122_04_02_150_lesion_01\n",
            "\n",
            "Predicting 000281_03_01_291_lesion_01:\n",
            "perform_everything_on_device: True\n",
            "100% 8/8 [00:04<00:00,  1.74it/s]\n",
            "sending off prediction to background worker for resampling and export\n",
            "done with 000281_03_01_291_lesion_01\n"
          ]
        }
      ]
    },
    {
      "cell_type": "code",
      "source": [
        "import nnunetv2"
      ],
      "metadata": {
        "id": "USnHm40ku6ld"
      },
      "execution_count": null,
      "outputs": []
    },
    {
      "cell_type": "code",
      "source": [
        "import nnunetv2.evaluation.evaluate_predictions as eval_utils\n",
        "def validation(folder_ref, folder_pred, output_file):\n",
        "    # folder_ref = '/media/fabian/data/nnUNet_raw/Dataset004_Hippocampus/labelsTr'\n",
        "    # folder_pred = '/content/drive/MyDrive/cs7643-finalproject/Final-validation/Label_pred/ModelB100'\n",
        "    # output_file = '/home/fabian/results/nnUNet_remake/Dataset004_Hippocampus/nnUNetModule__nnUNetPlans__3d_fullres/fold_0/validation/summary.json'\n",
        "    image_reader_writer = eval_utils.SimpleITKIO()\n",
        "    file_ending = '.nii.gz'\n",
        "    regions = eval_utils.labels_to_list_of_regions([1, 2])\n",
        "    ignore_label = None\n",
        "    num_processes = 12\n",
        "    eval_utils.compute_metrics_on_folder(folder_ref, folder_pred, output_file, image_reader_writer, file_ending, regions, ignore_label,\n",
        "                              num_processes)"
      ],
      "metadata": {
        "id": "a0Da0Enquh_j"
      },
      "execution_count": null,
      "outputs": []
    },
    {
      "cell_type": "code",
      "source": [
        "  folder_true = '/content/drive/MyDrive/cs7643-finalproject/Final-validation/Label_true'\n",
        "  folder_pred = '/content/drive/MyDrive/cs7643-finalproject/Final-validation/Label_pred/ModelA'\n",
        "  output_file = '/content/drive/MyDrive/cs7643-finalproject/Final-validation/summary_model_b.json'\n",
        "  validation(folder_true, folder_pred, output_file)"
      ],
      "metadata": {
        "colab": {
          "base_uri": "https://localhost:8080/"
        },
        "id": "-C_u_fIi8sBH",
        "outputId": "9423921b-3233-446b-93ea-97235407b19f"
      },
      "execution_count": null,
      "outputs": [
        {
          "output_type": "stream",
          "name": "stderr",
          "text": [
            "/content/drive/MyDrive/cs7643-finalproject/WorkSpace/nnUNet/nnunetv2/evaluation/evaluate_predictions.py:157: RuntimeWarning: Mean of empty slice\n",
            "  means[r][m] = np.nanmean([i['metrics'][r][m] for i in results])\n"
          ]
        }
      ]
    },
    {
      "cell_type": "code",
      "source": [
        "  folder_true = '/content/drive/MyDrive/cs7643-finalproject/Final-validation/Label_true'\n",
        "  folder_pred = '/content/drive/MyDrive/cs7643-finalproject/Final-validation/Label_pred/ModelB100'\n",
        "  output_file = '/content/drive/MyDrive/cs7643-finalproject/Final-validation/summary_model_a100.json'\n",
        "  validation(folder_true, folder_pred, output_file)"
      ],
      "metadata": {
        "id": "eQXwlcnh_TNU"
      },
      "execution_count": null,
      "outputs": []
    },
    {
      "cell_type": "code",
      "source": [
        "  folder_true = '/content/drive/MyDrive/cs7643-finalproject/Final-validation/Label_true'\n",
        "  folder_pred = '/content/drive/MyDrive/cs7643-finalproject/Final-validation/Label_pred/ModelBAll'\n",
        "  output_file = '/content/drive/MyDrive/cs7643-finalproject/Final-validation/summary_model_aall.json'\n",
        "  validation(folder_true, folder_pred, output_file)"
      ],
      "metadata": {
        "id": "YF9BWAz5CmPr"
      },
      "execution_count": 13,
      "outputs": []
    },
    {
      "cell_type": "code",
      "source": [],
      "metadata": {
        "id": "aoGZQ0KwCuYi"
      },
      "execution_count": null,
      "outputs": []
    }
  ]
}